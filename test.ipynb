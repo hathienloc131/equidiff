{
 "cells": [
  {
   "cell_type": "code",
   "execution_count": null,
   "id": "ab5f5843",
   "metadata": {},
   "outputs": [],
   "source": []
  },
  {
   "cell_type": "code",
   "execution_count": 79,
   "id": "6338e23f",
   "metadata": {},
   "outputs": [
    {
     "name": "stdout",
     "output_type": "stream",
     "text": [
      "{'name': 'act', '_target_': 'equi_diffpo.workspace.train_act_equi_workspace.TrainActEquiWorkspace', 'shape_meta': {'obs': {'agentview_image': {'shape': [3, 84, 84], 'type': 'rgb'}, 'robot0_eye_in_hand_image': {'shape': [3, 84, 84], 'type': 'rgb'}, 'robot0_eef_pos': {'shape': [3]}, 'robot0_eef_quat': {'shape': [4]}, 'robot0_gripper_qpos': {'shape': [2]}}, 'action': {'shape': [10]}}, 'exp_name': 'default', 'task_name': 'coffee_d2', 'n_demo': 100, 'horizon': 10, 'n_obs_steps': 1, 'n_action_steps': 10, 'n_latency_steps': 0, 'dataset_obs_steps': 1, 'past_action_visible': False, 'dataset': 'equi_diffpo.dataset.robomimic_replay_image_dataset.RobomimicReplayImageDataset', 'dataset_path': 'data/robomimic/datasets/coffee_d2/coffee_d2_abs.hdf5', 'policy': {'_target_': 'equi_diffpo.policy.act_equi_policy.ACTPolicyWrapper', 'shape_meta': {'obs': {'agentview_image': {'shape': [3, 84, 84], 'type': 'rgb'}, 'robot0_eye_in_hand_image': {'shape': [3, 84, 84], 'type': 'rgb'}, 'robot0_eef_pos': {'shape': [3]}, 'robot0_eef_quat': {'shape': [4]}, 'robot0_gripper_qpos': {'shape': [2]}}, 'action': {'shape': [10]}}, 'max_timesteps': 400, 'temporal_agg': False, 'n_envs': 28, 'horizon': 10, 'n_groups': 8}, 'dataloader': {'batch_size': 64, 'num_workers': 4, 'shuffle': True, 'pin_memory': True, 'persistent_workers': True}, 'val_dataloader': {'batch_size': 64, 'num_workers': 4, 'shuffle': False, 'pin_memory': True, 'persistent_workers': True}, 'training': {'device': 'cuda:0', 'seed': 0, 'debug': False, 'resume': True, 'num_epochs': 500.0, 'rollout_every': 10.0, 'checkpoint_every': 10.0, 'val_every': 1, 'max_train_steps': None, 'max_val_steps': None, 'tqdm_interval_sec': 1.0}, 'logging': {'project': 'diffusion_policy_coffee_d2', 'resume': True, 'mode': 'online', 'name': 'act_equi_demo100', 'tags': ['act', 'coffee_d2', 'default'], 'id': None, 'group': None}, 'checkpoint': {'topk': {'monitor_key': 'test_mean_score', 'mode': 'max', 'k': 5, 'format_str': 'epoch={epoch:04d}-test_mean_score={test_mean_score:.3f}.ckpt'}, 'save_last_ckpt': True, 'save_last_snapshot': False}, 'multi_run': {'run_dir': 'data/outputs/2025.08.15/11.12.58_act_coffee_d2', 'wandb_name_base': '2025.08.15-11.12.58_act_coffee_d2'}, 'task': {'name': 'mimicgen_abs', 'shape_meta': {'obs': {'agentview_image': {'shape': [3, 84, 84], 'type': 'rgb'}, 'robot0_eye_in_hand_image': {'shape': [3, 84, 84], 'type': 'rgb'}, 'robot0_eef_pos': {'shape': [3]}, 'robot0_eef_quat': {'shape': [4]}, 'robot0_gripper_qpos': {'shape': [2]}}, 'action': {'shape': [10]}}, 'abs_action': True, 'env_runner': {'_target_': 'equi_diffpo.env_runner.robomimic_image_runner.RobomimicImageRunner', 'dataset_path': 'data/robomimic/datasets/coffee_d2/coffee_d2_abs.hdf5', 'shape_meta': {'obs': {'agentview_image': {'shape': [3, 84, 84], 'type': 'rgb'}, 'robot0_eye_in_hand_image': {'shape': [3, 84, 84], 'type': 'rgb'}, 'robot0_eef_pos': {'shape': [3]}, 'robot0_eef_quat': {'shape': [4]}, 'robot0_gripper_qpos': {'shape': [2]}}, 'action': {'shape': [10]}}, 'n_train': 6, 'n_train_vis': 2, 'train_start_idx': 0, 'n_test': 50, 'n_test_vis': 4, 'test_start_seed': 100000, 'max_steps': 400, 'n_obs_steps': 1, 'n_action_steps': 10, 'render_obs_key': 'agentview_image', 'fps': 10, 'crf': 22, 'past_action': False, 'abs_action': True, 'tqdm_interval_sec': 1.0, 'n_envs': 28}, 'dataset': {'_target_': 'equi_diffpo.dataset.robomimic_replay_image_dataset.RobomimicReplayImageDataset', 'n_demo': 100, 'shape_meta': {'obs': {'agentview_image': {'shape': [3, 84, 84], 'type': 'rgb'}, 'robot0_eye_in_hand_image': {'shape': [3, 84, 84], 'type': 'rgb'}, 'robot0_eef_pos': {'shape': [3]}, 'robot0_eef_quat': {'shape': [4]}, 'robot0_gripper_qpos': {'shape': [2]}}, 'action': {'shape': [10]}}, 'dataset_path': 'data/robomimic/datasets/coffee_d2/coffee_d2_abs.hdf5', 'horizon': 10, 'pad_before': 0, 'pad_after': 9, 'n_obs_steps': 1, 'abs_action': True, 'rotation_rep': 'rotation_6d', 'use_legacy_normalizer': False, 'use_cache': True, 'seed': 42, 'val_ratio': 0.02}}}\n",
      "build backbone equi agentview_image\n",
      "64 3 8\n",
      "num_channels 512\n",
      "build backbone robot0_eye_in_hand_image\n",
      "2\n"
     ]
    },
    {
     "name": "stderr",
     "output_type": "stream",
     "text": [
      "/home/rtx8/miniconda3/envs/equidiff/lib/python3.9/site-packages/torchvision/models/_utils.py:208: UserWarning: The parameter 'pretrained' is deprecated since 0.13 and may be removed in the future, please use 'weights' instead.\n",
      "  warnings.warn(\n",
      "/home/rtx8/miniconda3/envs/equidiff/lib/python3.9/site-packages/torchvision/models/_utils.py:223: UserWarning: Arguments other than a weight enum or `None` for 'weights' are deprecated since 0.13 and may be removed in the future. The current behavior is equivalent to passing `weights=ResNet18_Weights.IMAGENET1K_V1`. You can also use `weights=ResNet18_Weights.DEFAULT` to get the most up-to-date weights.\n",
      "  warnings.warn(msg)\n"
     ]
    },
    {
     "name": "stdout",
     "output_type": "stream",
     "text": [
      "number of parameters: 85.04M\n",
      "transformer.encoder.layers.0.self_attn.in_proj_weight\n",
      "transformer.encoder.layers.0.self_attn.in_proj_bias\n",
      "transformer.encoder.layers.0.self_attn.out_proj.weight\n",
      "transformer.encoder.layers.0.self_attn.out_proj.bias\n",
      "transformer.encoder.layers.0.linear1.weight\n",
      "transformer.encoder.layers.0.linear1.bias\n",
      "transformer.encoder.layers.0.linear2.weight\n",
      "transformer.encoder.layers.0.linear2.bias\n",
      "transformer.encoder.layers.0.norm1.weight\n",
      "transformer.encoder.layers.0.norm1.bias\n",
      "transformer.encoder.layers.0.norm2.weight\n",
      "transformer.encoder.layers.0.norm2.bias\n",
      "transformer.encoder.layers.1.self_attn.in_proj_weight\n",
      "transformer.encoder.layers.1.self_attn.in_proj_bias\n",
      "transformer.encoder.layers.1.self_attn.out_proj.weight\n",
      "transformer.encoder.layers.1.self_attn.out_proj.bias\n",
      "transformer.encoder.layers.1.linear1.weight\n",
      "transformer.encoder.layers.1.linear1.bias\n",
      "transformer.encoder.layers.1.linear2.weight\n",
      "transformer.encoder.layers.1.linear2.bias\n",
      "transformer.encoder.layers.1.norm1.weight\n",
      "transformer.encoder.layers.1.norm1.bias\n",
      "transformer.encoder.layers.1.norm2.weight\n",
      "transformer.encoder.layers.1.norm2.bias\n",
      "transformer.encoder.layers.2.self_attn.in_proj_weight\n",
      "transformer.encoder.layers.2.self_attn.in_proj_bias\n",
      "transformer.encoder.layers.2.self_attn.out_proj.weight\n",
      "transformer.encoder.layers.2.self_attn.out_proj.bias\n",
      "transformer.encoder.layers.2.linear1.weight\n",
      "transformer.encoder.layers.2.linear1.bias\n",
      "transformer.encoder.layers.2.linear2.weight\n",
      "transformer.encoder.layers.2.linear2.bias\n",
      "transformer.encoder.layers.2.norm1.weight\n",
      "transformer.encoder.layers.2.norm1.bias\n",
      "transformer.encoder.layers.2.norm2.weight\n",
      "transformer.encoder.layers.2.norm2.bias\n",
      "transformer.encoder.layers.3.self_attn.in_proj_weight\n",
      "transformer.encoder.layers.3.self_attn.in_proj_bias\n",
      "transformer.encoder.layers.3.self_attn.out_proj.weight\n",
      "transformer.encoder.layers.3.self_attn.out_proj.bias\n",
      "transformer.encoder.layers.3.linear1.weight\n",
      "transformer.encoder.layers.3.linear1.bias\n",
      "transformer.encoder.layers.3.linear2.weight\n",
      "transformer.encoder.layers.3.linear2.bias\n",
      "transformer.encoder.layers.3.norm1.weight\n",
      "transformer.encoder.layers.3.norm1.bias\n",
      "transformer.encoder.layers.3.norm2.weight\n",
      "transformer.encoder.layers.3.norm2.bias\n",
      "transformer.decoder.layers.0.self_attn.in_proj_weight\n",
      "transformer.decoder.layers.0.self_attn.in_proj_bias\n",
      "transformer.decoder.layers.0.self_attn.out_proj.weight\n",
      "transformer.decoder.layers.0.self_attn.out_proj.bias\n",
      "transformer.decoder.layers.0.multihead_attn.in_proj_weight\n",
      "transformer.decoder.layers.0.multihead_attn.in_proj_bias\n",
      "transformer.decoder.layers.0.multihead_attn.out_proj.weight\n",
      "transformer.decoder.layers.0.multihead_attn.out_proj.bias\n",
      "transformer.decoder.layers.0.linear1.weight\n",
      "transformer.decoder.layers.0.linear1.bias\n",
      "transformer.decoder.layers.0.linear2.weight\n",
      "transformer.decoder.layers.0.linear2.bias\n",
      "transformer.decoder.layers.0.norm1.weight\n",
      "transformer.decoder.layers.0.norm1.bias\n",
      "transformer.decoder.layers.0.norm2.weight\n",
      "transformer.decoder.layers.0.norm2.bias\n",
      "transformer.decoder.layers.0.norm3.weight\n",
      "transformer.decoder.layers.0.norm3.bias\n",
      "transformer.decoder.layers.1.self_attn.in_proj_weight\n",
      "transformer.decoder.layers.1.self_attn.in_proj_bias\n",
      "transformer.decoder.layers.1.self_attn.out_proj.weight\n",
      "transformer.decoder.layers.1.self_attn.out_proj.bias\n",
      "transformer.decoder.layers.1.multihead_attn.in_proj_weight\n",
      "transformer.decoder.layers.1.multihead_attn.in_proj_bias\n",
      "transformer.decoder.layers.1.multihead_attn.out_proj.weight\n",
      "transformer.decoder.layers.1.multihead_attn.out_proj.bias\n",
      "transformer.decoder.layers.1.linear1.weight\n",
      "transformer.decoder.layers.1.linear1.bias\n",
      "transformer.decoder.layers.1.linear2.weight\n",
      "transformer.decoder.layers.1.linear2.bias\n",
      "transformer.decoder.layers.1.norm1.weight\n",
      "transformer.decoder.layers.1.norm1.bias\n",
      "transformer.decoder.layers.1.norm2.weight\n",
      "transformer.decoder.layers.1.norm2.bias\n",
      "transformer.decoder.layers.1.norm3.weight\n",
      "transformer.decoder.layers.1.norm3.bias\n",
      "transformer.decoder.layers.2.self_attn.in_proj_weight\n",
      "transformer.decoder.layers.2.self_attn.in_proj_bias\n",
      "transformer.decoder.layers.2.self_attn.out_proj.weight\n",
      "transformer.decoder.layers.2.self_attn.out_proj.bias\n",
      "transformer.decoder.layers.2.multihead_attn.in_proj_weight\n",
      "transformer.decoder.layers.2.multihead_attn.in_proj_bias\n",
      "transformer.decoder.layers.2.multihead_attn.out_proj.weight\n",
      "transformer.decoder.layers.2.multihead_attn.out_proj.bias\n",
      "transformer.decoder.layers.2.linear1.weight\n",
      "transformer.decoder.layers.2.linear1.bias\n",
      "transformer.decoder.layers.2.linear2.weight\n",
      "transformer.decoder.layers.2.linear2.bias\n",
      "transformer.decoder.layers.2.norm1.weight\n",
      "transformer.decoder.layers.2.norm1.bias\n",
      "transformer.decoder.layers.2.norm2.weight\n",
      "transformer.decoder.layers.2.norm2.bias\n",
      "transformer.decoder.layers.2.norm3.weight\n",
      "transformer.decoder.layers.2.norm3.bias\n",
      "transformer.decoder.layers.3.self_attn.in_proj_weight\n",
      "transformer.decoder.layers.3.self_attn.in_proj_bias\n",
      "transformer.decoder.layers.3.self_attn.out_proj.weight\n",
      "transformer.decoder.layers.3.self_attn.out_proj.bias\n",
      "transformer.decoder.layers.3.multihead_attn.in_proj_weight\n",
      "transformer.decoder.layers.3.multihead_attn.in_proj_bias\n",
      "transformer.decoder.layers.3.multihead_attn.out_proj.weight\n",
      "transformer.decoder.layers.3.multihead_attn.out_proj.bias\n",
      "transformer.decoder.layers.3.linear1.weight\n",
      "transformer.decoder.layers.3.linear1.bias\n",
      "transformer.decoder.layers.3.linear2.weight\n",
      "transformer.decoder.layers.3.linear2.bias\n",
      "transformer.decoder.layers.3.norm1.weight\n",
      "transformer.decoder.layers.3.norm1.bias\n",
      "transformer.decoder.layers.3.norm2.weight\n",
      "transformer.decoder.layers.3.norm2.bias\n",
      "transformer.decoder.layers.3.norm3.weight\n",
      "transformer.decoder.layers.3.norm3.bias\n",
      "transformer.decoder.layers.4.self_attn.in_proj_weight\n",
      "transformer.decoder.layers.4.self_attn.in_proj_bias\n",
      "transformer.decoder.layers.4.self_attn.out_proj.weight\n",
      "transformer.decoder.layers.4.self_attn.out_proj.bias\n",
      "transformer.decoder.layers.4.multihead_attn.in_proj_weight\n",
      "transformer.decoder.layers.4.multihead_attn.in_proj_bias\n",
      "transformer.decoder.layers.4.multihead_attn.out_proj.weight\n",
      "transformer.decoder.layers.4.multihead_attn.out_proj.bias\n",
      "transformer.decoder.layers.4.linear1.weight\n",
      "transformer.decoder.layers.4.linear1.bias\n",
      "transformer.decoder.layers.4.linear2.weight\n",
      "transformer.decoder.layers.4.linear2.bias\n",
      "transformer.decoder.layers.4.norm1.weight\n",
      "transformer.decoder.layers.4.norm1.bias\n",
      "transformer.decoder.layers.4.norm2.weight\n",
      "transformer.decoder.layers.4.norm2.bias\n",
      "transformer.decoder.layers.4.norm3.weight\n",
      "transformer.decoder.layers.4.norm3.bias\n",
      "transformer.decoder.layers.5.self_attn.in_proj_weight\n",
      "transformer.decoder.layers.5.self_attn.in_proj_bias\n",
      "transformer.decoder.layers.5.self_attn.out_proj.weight\n",
      "transformer.decoder.layers.5.self_attn.out_proj.bias\n",
      "transformer.decoder.layers.5.multihead_attn.in_proj_weight\n",
      "transformer.decoder.layers.5.multihead_attn.in_proj_bias\n",
      "transformer.decoder.layers.5.multihead_attn.out_proj.weight\n",
      "transformer.decoder.layers.5.multihead_attn.out_proj.bias\n",
      "transformer.decoder.layers.5.linear1.weight\n",
      "transformer.decoder.layers.5.linear1.bias\n",
      "transformer.decoder.layers.5.linear2.weight\n",
      "transformer.decoder.layers.5.linear2.bias\n",
      "transformer.decoder.layers.5.norm1.weight\n",
      "transformer.decoder.layers.5.norm1.bias\n",
      "transformer.decoder.layers.5.norm2.weight\n",
      "transformer.decoder.layers.5.norm2.bias\n",
      "transformer.decoder.layers.5.norm3.weight\n",
      "transformer.decoder.layers.5.norm3.bias\n",
      "transformer.decoder.layers.6.self_attn.in_proj_weight\n",
      "transformer.decoder.layers.6.self_attn.in_proj_bias\n",
      "transformer.decoder.layers.6.self_attn.out_proj.weight\n",
      "transformer.decoder.layers.6.self_attn.out_proj.bias\n",
      "transformer.decoder.layers.6.multihead_attn.in_proj_weight\n",
      "transformer.decoder.layers.6.multihead_attn.in_proj_bias\n",
      "transformer.decoder.layers.6.multihead_attn.out_proj.weight\n",
      "transformer.decoder.layers.6.multihead_attn.out_proj.bias\n",
      "transformer.decoder.layers.6.linear1.weight\n",
      "transformer.decoder.layers.6.linear1.bias\n",
      "transformer.decoder.layers.6.linear2.weight\n",
      "transformer.decoder.layers.6.linear2.bias\n",
      "transformer.decoder.layers.6.norm1.weight\n",
      "transformer.decoder.layers.6.norm1.bias\n",
      "transformer.decoder.layers.6.norm2.weight\n",
      "transformer.decoder.layers.6.norm2.bias\n",
      "transformer.decoder.layers.6.norm3.weight\n",
      "transformer.decoder.layers.6.norm3.bias\n",
      "transformer.decoder.norm.weight\n",
      "transformer.decoder.norm.bias\n",
      "encoder.layers.0.self_attn.in_proj_weight\n",
      "encoder.layers.0.self_attn.in_proj_bias\n",
      "encoder.layers.0.self_attn.out_proj.weight\n",
      "encoder.layers.0.self_attn.out_proj.bias\n",
      "encoder.layers.0.linear1.weight\n",
      "encoder.layers.0.linear1.bias\n",
      "encoder.layers.0.linear2.weight\n",
      "encoder.layers.0.linear2.bias\n",
      "encoder.layers.0.norm1.weight\n",
      "encoder.layers.0.norm1.bias\n",
      "encoder.layers.0.norm2.weight\n",
      "encoder.layers.0.norm2.bias\n",
      "encoder.layers.1.self_attn.in_proj_weight\n",
      "encoder.layers.1.self_attn.in_proj_bias\n",
      "encoder.layers.1.self_attn.out_proj.weight\n",
      "encoder.layers.1.self_attn.out_proj.bias\n",
      "encoder.layers.1.linear1.weight\n",
      "encoder.layers.1.linear1.bias\n",
      "encoder.layers.1.linear2.weight\n",
      "encoder.layers.1.linear2.bias\n",
      "encoder.layers.1.norm1.weight\n",
      "encoder.layers.1.norm1.bias\n",
      "encoder.layers.1.norm2.weight\n",
      "encoder.layers.1.norm2.bias\n",
      "encoder.layers.2.self_attn.in_proj_weight\n",
      "encoder.layers.2.self_attn.in_proj_bias\n",
      "encoder.layers.2.self_attn.out_proj.weight\n",
      "encoder.layers.2.self_attn.out_proj.bias\n",
      "encoder.layers.2.linear1.weight\n",
      "encoder.layers.2.linear1.bias\n",
      "encoder.layers.2.linear2.weight\n",
      "encoder.layers.2.linear2.bias\n",
      "encoder.layers.2.norm1.weight\n",
      "encoder.layers.2.norm1.bias\n",
      "encoder.layers.2.norm2.weight\n",
      "encoder.layers.2.norm2.bias\n",
      "encoder.layers.3.self_attn.in_proj_weight\n",
      "encoder.layers.3.self_attn.in_proj_bias\n",
      "encoder.layers.3.self_attn.out_proj.weight\n",
      "encoder.layers.3.self_attn.out_proj.bias\n",
      "encoder.layers.3.linear1.weight\n",
      "encoder.layers.3.linear1.bias\n",
      "encoder.layers.3.linear2.weight\n",
      "encoder.layers.3.linear2.bias\n",
      "encoder.layers.3.norm1.weight\n",
      "encoder.layers.3.norm1.bias\n",
      "encoder.layers.3.norm2.weight\n",
      "encoder.layers.3.norm2.bias\n",
      "equivariant_decoder._dummy_variable\n",
      "equivariant_decoder.action_head.bias\n",
      "equivariant_decoder.action_head.weights\n",
      "equivariant_decoder.query_embed.weight\n",
      "equivariant_decoder.backbones.0.0.backbone.conv.0.bias\n",
      "equivariant_decoder.backbones.0.0.backbone.conv.0.weights\n",
      "equivariant_decoder.backbones.0.0.backbone.conv.2.layer1.0.bias\n",
      "equivariant_decoder.backbones.0.0.backbone.conv.2.layer1.0.weights\n",
      "equivariant_decoder.backbones.0.0.backbone.conv.2.layer2.0.bias\n",
      "equivariant_decoder.backbones.0.0.backbone.conv.2.layer2.0.weights\n",
      "equivariant_decoder.backbones.0.0.backbone.conv.3.layer1.0.bias\n",
      "equivariant_decoder.backbones.0.0.backbone.conv.3.layer1.0.weights\n",
      "equivariant_decoder.backbones.0.0.backbone.conv.3.layer2.0.bias\n",
      "equivariant_decoder.backbones.0.0.backbone.conv.3.layer2.0.weights\n",
      "equivariant_decoder.backbones.0.0.backbone.conv.5.layer1.0.bias\n",
      "equivariant_decoder.backbones.0.0.backbone.conv.5.layer1.0.weights\n",
      "equivariant_decoder.backbones.0.0.backbone.conv.5.layer2.0.bias\n",
      "equivariant_decoder.backbones.0.0.backbone.conv.5.layer2.0.weights\n",
      "equivariant_decoder.backbones.0.0.backbone.conv.5.upscale.0.weights\n",
      "equivariant_decoder.backbones.0.0.backbone.conv.6.layer1.0.bias\n",
      "equivariant_decoder.backbones.0.0.backbone.conv.6.layer1.0.weights\n",
      "equivariant_decoder.backbones.0.0.backbone.conv.6.layer2.0.bias\n",
      "equivariant_decoder.backbones.0.0.backbone.conv.6.layer2.0.weights\n",
      "equivariant_decoder.backbones.0.0.backbone.conv.8.layer1.0.bias\n",
      "equivariant_decoder.backbones.0.0.backbone.conv.8.layer1.0.weights\n",
      "equivariant_decoder.backbones.0.0.backbone.conv.8.layer2.0.bias\n",
      "equivariant_decoder.backbones.0.0.backbone.conv.8.layer2.0.weights\n",
      "equivariant_decoder.backbones.0.0.backbone.conv.8.upscale.0.weights\n",
      "equivariant_decoder.backbones.0.0.backbone.conv.9.layer1.0.bias\n",
      "equivariant_decoder.backbones.0.0.backbone.conv.9.layer1.0.weights\n",
      "equivariant_decoder.backbones.0.0.backbone.conv.9.layer2.0.bias\n",
      "equivariant_decoder.backbones.0.0.backbone.conv.9.layer2.0.weights\n",
      "equivariant_decoder.backbones.0.0.backbone.conv.11.layer1.0.bias\n",
      "equivariant_decoder.backbones.0.0.backbone.conv.11.layer1.0.weights\n",
      "equivariant_decoder.backbones.0.0.backbone.conv.11.layer2.0.bias\n",
      "equivariant_decoder.backbones.0.0.backbone.conv.11.layer2.0.weights\n",
      "equivariant_decoder.backbones.0.0.backbone.conv.11.upscale.0.weights\n",
      "equivariant_decoder.backbones.0.0.backbone.conv.12.layer1.0.bias\n",
      "equivariant_decoder.backbones.0.0.backbone.conv.12.layer1.0.weights\n",
      "equivariant_decoder.backbones.0.0.backbone.conv.12.layer2.0.bias\n",
      "equivariant_decoder.backbones.0.0.backbone.conv.12.layer2.0.weights\n",
      "equivariant_decoder.backbones.0.0.backbone.conv.14.bias\n",
      "equivariant_decoder.backbones.0.0.backbone.conv.14.weights\n",
      "equivariant_decoder.backbones.1.0.body.conv1.weight\n",
      "equivariant_decoder.backbones.1.0.body.layer1.0.conv1.weight\n",
      "equivariant_decoder.backbones.1.0.body.layer1.0.conv2.weight\n",
      "equivariant_decoder.backbones.1.0.body.layer1.1.conv1.weight\n",
      "equivariant_decoder.backbones.1.0.body.layer1.1.conv2.weight\n",
      "equivariant_decoder.backbones.1.0.body.layer2.0.conv1.weight\n",
      "equivariant_decoder.backbones.1.0.body.layer2.0.conv2.weight\n",
      "equivariant_decoder.backbones.1.0.body.layer2.0.downsample.0.weight\n",
      "equivariant_decoder.backbones.1.0.body.layer2.1.conv1.weight\n",
      "equivariant_decoder.backbones.1.0.body.layer2.1.conv2.weight\n",
      "equivariant_decoder.backbones.1.0.body.layer3.0.conv1.weight\n",
      "equivariant_decoder.backbones.1.0.body.layer3.0.conv2.weight\n",
      "equivariant_decoder.backbones.1.0.body.layer3.0.downsample.0.weight\n",
      "equivariant_decoder.backbones.1.0.body.layer3.1.conv1.weight\n",
      "equivariant_decoder.backbones.1.0.body.layer3.1.conv2.weight\n",
      "equivariant_decoder.backbones.1.0.body.layer4.0.conv1.weight\n",
      "equivariant_decoder.backbones.1.0.body.layer4.0.conv2.weight\n",
      "equivariant_decoder.backbones.1.0.body.layer4.0.downsample.0.weight\n",
      "equivariant_decoder.backbones.1.0.body.layer4.1.conv1.weight\n",
      "equivariant_decoder.backbones.1.0.body.layer4.1.conv2.weight\n",
      "equivariant_decoder.input_proj.weight\n",
      "equivariant_decoder.input_proj.bias\n",
      "equivariant_decoder.input_proj_robot_state.bias\n",
      "equivariant_decoder.input_proj_robot_state.weights\n",
      "equivariant_decoder.additional_pos_embed.weight\n",
      "equivariant_encoder._dummy_variable\n",
      "equivariant_encoder.cls_embed.weight\n",
      "equivariant_encoder.encoder_joint_proj.bias\n",
      "equivariant_encoder.encoder_joint_proj.weights\n",
      "equivariant_encoder.encoder_action_proj.bias\n",
      "equivariant_encoder.encoder_action_proj.weights\n",
      "equivariant_encoder.latent_proj.weight\n",
      "equivariant_encoder.latent_proj.bias\n",
      "latent_out_proj.weight\n",
      "latent_out_proj.bias\n",
      "additional_pos_embed.weight\n",
      "KL Weight 10\n"
     ]
    }
   ],
   "source": [
    "# load checkpoint\n",
    "import torch\n",
    "import dill\n",
    "import hydra\n",
    "checkpoint = \"data/outputs/2025.08.15/11.12.58_act_coffee_d2/checkpoints/latest.ckpt\"\n",
    "payload = torch.load(open(checkpoint, 'rb'), pickle_module=dill)\n",
    "cfg = payload['cfg']\n",
    "print(cfg)\n",
    "cls = hydra.utils.get_class(cfg._target_)\n",
    "workspace = cls(cfg, output_dir=\"\")\n",
    "workspace.load_payload(payload, exclude_keys=None, include_keys=None)\n"
   ]
  },
  {
   "cell_type": "code",
   "execution_count": null,
   "id": "30d1507b",
   "metadata": {},
   "outputs": [],
   "source": []
  },
  {
   "cell_type": "code",
   "execution_count": 80,
   "id": "267fd3cb",
   "metadata": {},
   "outputs": [
    {
     "name": "stdout",
     "output_type": "stream",
     "text": [
      "Acquiring lock on cache.\n",
      "Loading cached ReplayBuffer from Disk.\n",
      "Loaded!\n"
     ]
    }
   ],
   "source": [
    "# configure dataset\n",
    "from torch.utils.data import DataLoader\n",
    "\n",
    "dataset = hydra.utils.instantiate(cfg.task.dataset)\n",
    "train_dataloader = DataLoader(dataset, **cfg.dataloader)\n",
    "normalizer = dataset.get_normalizer()\n",
    "\n",
    "# configure validation dataset\n",
    "val_dataset = dataset.get_validation_dataset()\n",
    "val_dataloader = DataLoader(val_dataset, **cfg.val_dataloader)\n"
   ]
  },
  {
   "cell_type": "code",
   "execution_count": 81,
   "id": "9b4b6af7",
   "metadata": {},
   "outputs": [],
   "source": [
    "workspace.model.set_normalizer(normalizer)\n",
    "normalizer = workspace.model.normalizer['action']\n",
    "model = workspace.model.model\n"
   ]
  },
  {
   "cell_type": "code",
   "execution_count": 82,
   "id": "ef89426c",
   "metadata": {},
   "outputs": [],
   "source": [
    "action = dataset[50]['action']"
   ]
  },
  {
   "cell_type": "code",
   "execution_count": 83,
   "id": "3dfbb8d5",
   "metadata": {},
   "outputs": [],
   "source": [
    "sample = dataset[50]['obs']"
   ]
  },
  {
   "cell_type": "code",
   "execution_count": 84,
   "id": "5101c0be",
   "metadata": {},
   "outputs": [
    {
     "data": {
      "text/plain": [
       "tensor([[-0.0046, -0.2464,  0.8639]])"
      ]
     },
     "execution_count": 84,
     "metadata": {},
     "output_type": "execute_result"
    }
   ],
   "source": [
    "sample['robot0_eef_pos']"
   ]
  },
  {
   "cell_type": "code",
   "execution_count": 85,
   "id": "342ad303",
   "metadata": {},
   "outputs": [
    {
     "name": "stderr",
     "output_type": "stream",
     "text": [
      "/tmp/ipykernel_36270/736003874.py:6: UserWarning: To copy construct from a tensor, it is recommended to use sourceTensor.clone().detach() or sourceTensor.clone().detach().requires_grad_(True), rather than torch.tensor(sourceTensor).\n",
      "  agent_image = torch.tensor(sample['agentview_image'])\n",
      "/tmp/ipykernel_36270/736003874.py:7: UserWarning: To copy construct from a tensor, it is recommended to use sourceTensor.clone().detach() or sourceTensor.clone().detach().requires_grad_(True), rather than torch.tensor(sourceTensor).\n",
      "  in_hand_image = torch.tensor(sample['robot0_eye_in_hand_image'])\n"
     ]
    }
   ],
   "source": [
    "import torch\n",
    "# open h5py\n",
    "batch_size = 1\n",
    "qpos = sample\n",
    "\n",
    "agent_image = torch.tensor(sample['agentview_image'])\n",
    "in_hand_image = torch.tensor(sample['robot0_eye_in_hand_image'])\n",
    "\n",
    "images = torch.stack([agent_image, in_hand_image], dim=1)\n",
    "\n",
    "a_hat = model(qpos, images, None)\n",
    "a_hat = normalizer.unnormalize(a_hat)"
   ]
  },
  {
   "cell_type": "code",
   "execution_count": 86,
   "id": "658d6192",
   "metadata": {},
   "outputs": [],
   "source": [
    "def quat_mul(q1, q2):\n",
    "    # q1, q2: (..., 4)\n",
    "    w1, x1, y1, z1 = q1.unbind(-1)\n",
    "    w2, x2, y2, z2 = q2.unbind(-1)\n",
    "    return torch.stack((\n",
    "        w1*w2 - x1*x2 - y1*y2 - z1*z2,\n",
    "        w1*x2 + x1*w2 + y1*z2 - z1*y2,\n",
    "        w1*y2 - x1*z2 + y1*w2 + z1*x2,\n",
    "        w1*z2 + x1*y2 - y1*x2 + z1*w2\n",
    "    ), dim=-1)"
   ]
  },
  {
   "cell_type": "code",
   "execution_count": 87,
   "id": "0e3b131b",
   "metadata": {},
   "outputs": [],
   "source": [
    "import torch.nn.functional as F\n",
    "import math\n",
    "def rotate_qpos(qpos, angle):\n",
    "    \"\"\"Rotate the end-effector position and quaternion by a given angle around Z-axis.\"\"\"\n",
    "    angle = torch.tensor(angle).float().to(qpos[\"robot0_eef_pos\"].device)\n",
    "    \n",
    "    # Z-axis rotation matrix 90 degrees\n",
    "    rotation_matrix = torch.tensor([\n",
    "        [torch.cos(angle), -torch.sin(angle), 0],\n",
    "        [torch.sin(angle), torch.cos(angle), 0],\n",
    "        [0, 0, 1]\n",
    "    ]).float().to(qpos[\"robot0_eef_pos\"].device)\n",
    "\n",
    "    rotated_pos = torch.matmul(qpos[\"robot0_eef_pos\"], rotation_matrix.T)\n",
    "    \n",
    "    # Quaternion for Z-axis rotation 90 degrees\n",
    "    theta = torch.tensor(math.radians(angle)).float().to(qpos[\"robot0_eef_quat\"].device)\n",
    "    q_rot = torch.tensor([\n",
    "        torch.cos(theta / 2),  # w\n",
    "        0,  # x\n",
    "        0,  # y\n",
    "        torch.sin(theta / 2)   # z\n",
    "    ]).float().to(qpos[\"robot0_eef_quat\"].device)\n",
    "    \n",
    "    rotated_quat = quat_mul(\n",
    "        q_rot,\n",
    "        qpos[\"robot0_eef_quat\"],\n",
    "    )\n",
    "\n",
    "    return {\n",
    "        \"robot0_eef_pos\": rotated_pos,\n",
    "        \"robot0_eef_quat\": rotated_quat,\n",
    "        \"robot0_gripper_qpos\": qpos[\"robot0_gripper_qpos\"]\n",
    "    }\n",
    "    \n",
    "def rotate_images(images, angle):\n",
    "    \"\"\"Rotate images by a given angle (in radians).\"\"\"\n",
    "    angle = torch.tensor(angle).float().to(images.device)\n",
    "    \n",
    "    cos_a = torch.cos(angle)\n",
    "    sin_a = torch.sin(angle)\n",
    "    \n",
    "    # 2D rotation matrix for image rotation\n",
    "    theta = torch.tensor([\n",
    "        [cos_a, -sin_a, 0],\n",
    "        [sin_a, cos_a, 0]\n",
    "    ]).unsqueeze(0).repeat(images.size(0), 1, 1).float().to(images.device)\n",
    "    \n",
    "    grid = F.affine_grid(theta, images.size(), align_corners=False)\n",
    "    rotated_images = F.grid_sample(images, grid, align_corners=False)\n",
    "    \n",
    "    return rotated_images\n",
    "    \n",
    "# Rotate by 90 degrees around Z-axis \n",
    "rotated_agent_image = rotate_images(agent_image, torch.pi)\n",
    "rotated_images = torch.stack([rotated_agent_image, in_hand_image], dim=1)\n",
    "rotated_qpos = rotate_qpos(qpos, torch.pi)\n",
    "rotated_a_hat = model(rotated_qpos, rotated_images, None)\n",
    "rotated_a_hat = normalizer.unnormalize(rotated_a_hat)"
   ]
  },
  {
   "cell_type": "code",
   "execution_count": 88,
   "id": "02826eed",
   "metadata": {},
   "outputs": [],
   "source": [
    "\n",
    "# Extract data for original action\n",
    "a_hat_xy = a_hat[0, :, :2].detach().numpy()  # Position (x, y)\n",
    "\n",
    "# Extract data for rotated action\n",
    "rotated_a_hat_xy = rotated_a_hat[0, :, :2].detach().numpy()  # Position (x, y)\n",
    "\n",
    "action_xy = action[:, :2].detach().numpy()  # Original action (x, y)\n"
   ]
  },
  {
   "cell_type": "code",
   "execution_count": 89,
   "id": "42168ca9",
   "metadata": {},
   "outputs": [],
   "source": [
    "# rotate ground truth action xy 90 degree on xy plane\n",
    "import numpy as np\n",
    "def rotate_action_xy(action_xy, angle):\n",
    "    \"\"\"Rotate action coordinates by a given angle around Z-axis.\"\"\"\n",
    "    rotation_matrix = np.array([\n",
    "        [np.cos(angle), -np.sin(angle)],\n",
    "        [np.sin(angle), np.cos(angle)]\n",
    "    ])\n",
    "    rotated_action_xy = np.dot(action_xy, rotation_matrix.T)\n",
    "    return rotated_action_xy\n",
    "rotated_action_xy = rotate_action_xy(action_xy, torch.pi)  # Rotate by 90 degrees\n",
    "    "
   ]
  },
  {
   "cell_type": "code",
   "execution_count": 96,
   "id": "8164abf8",
   "metadata": {},
   "outputs": [
    {
     "data": {
      "image/png": "[encoded data removed]",
      "text/plain": [
       "<Figure size 1000x500 with 1 Axes>"
      ]
     },
     "metadata": {},
     "output_type": "display_data"
    }
   ],
   "source": [
    "import matplotlib.pyplot as plt\n",
    "import numpy as np\n",
    "\n",
    "\n",
    "# Create a figure visualizing the original and rotated actions\n",
    "plt.figure(figsize=(10, 5))\n",
    "plt.plot(a_hat_xy[:, 0], a_hat_xy[:, 1], 'ro-', label='Original Action', markersize=5, alpha=0.7)\n",
    "plt.plot(rotated_a_hat_xy[:, 0], rotated_a_hat_xy[:, 1], 'bo-', label='Rotated Action', markersize=5, alpha=0.7)\n",
    "plt.plot(action_xy[:, 0], action_xy[:, 1], 'go-', label='Ground Truth Action', markersize=5, alpha=0.7)\n",
    "# plt.plot(rotated_action_xy[:, 0], rotated_action_xy[:, 1], 'mo-', label='Rotated Ground Truth Action', markersize=5, alpha=0.7)\n",
    "plt.legend()\n",
    "plt.title('Action Visualization')\n",
    "plt.xlabel('X Position')\n",
    "plt.ylabel('Y Position')\n",
    "plt.grid()\n",
    "plt.show()\n"
   ]
  },
  {
   "cell_type": "code",
   "execution_count": 91,
   "id": "6a8b53b5",
   "metadata": {},
   "outputs": [
    {
     "data": {
      "image/png": "[encoded data removed]",
      "text/plain": [
       "<Figure size 640x480 with 1 Axes>"
      ]
     },
     "metadata": {},
     "output_type": "display_data"
    }
   ],
   "source": [
    "plt.imshow(agent_image.squeeze().permute(1, 2, 0).cpu().numpy())\n",
    "plt.axis('off')\n",
    "plt.show()"
   ]
  },
  {
   "cell_type": "code",
   "execution_count": 92,
   "id": "e81078d4",
   "metadata": {},
   "outputs": [
    {
     "data": {
      "image/png": "[encoded data removed]",
      "text/plain": [
       "<Figure size 640x480 with 1 Axes>"
      ]
     },
     "metadata": {},
     "output_type": "display_data"
    }
   ],
   "source": [
    "plt.imshow(rotated_agent_image.squeeze().permute(1, 2, 0).cpu().numpy())\n",
    "plt.axis('off')\n",
    "plt.show()"
   ]
  },
  {
   "cell_type": "code",
   "execution_count": 93,
   "id": "cb706184",
   "metadata": {},
   "outputs": [
    {
     "data": {
      "image/png": "[encoded data removed]",
      "text/plain": [
       "<Figure size 640x480 with 1 Axes>"
      ]
     },
     "metadata": {},
     "output_type": "display_data"
    }
   ],
   "source": [
    "# visualize in hand view image\n",
    "import matplotlib.pyplot as plt\n",
    "\n",
    "plt.imshow(in_hand_image.squeeze().permute(1, 2, 0).cpu().numpy())\n",
    "plt.axis('off')\n",
    "plt.show()\n"
   ]
  },
  {
   "cell_type": "code",
   "execution_count": 94,
   "id": "d3e00822",
   "metadata": {},
   "outputs": [
    {
     "data": {
      "image/png": "[encoded data removed]",
      "text/plain": [
       "<Figure size 640x480 with 1 Axes>"
      ]
     },
     "metadata": {},
     "output_type": "display_data"
    }
   ],
   "source": [
    "plt.imshow(agent_image.squeeze().permute(1, 2, 0).cpu().numpy())\n",
    "plt.axis('off')\n",
    "plt.show()"
   ]
  },
  {
   "cell_type": "code",
   "execution_count": 95,
   "id": "52c739f8",
   "metadata": {},
   "outputs": [
    {
     "data": {
      "text/plain": [
       "torch.Size([1, 3, 84, 84])"
      ]
     },
     "execution_count": 95,
     "metadata": {},
     "output_type": "execute_result"
    }
   ],
   "source": [
    "in_hand_image.shape"
   ]
  }
 ],
 "metadata": {
  "kernelspec": {
   "display_name": "equidiff",
   "language": "python",
   "name": "python3"
  },
  "language_info": {
   "codemirror_mode": {
    "name": "ipython",
    "version": 3
   },
   "file_extension": ".py",
   "mimetype": "text/x-python",
   "name": "python",
   "nbconvert_exporter": "python",
   "pygments_lexer": "ipython3",
   "version": "3.9.18"
  }
 },
 "nbformat": 4,
 "nbformat_minor": 5
}
